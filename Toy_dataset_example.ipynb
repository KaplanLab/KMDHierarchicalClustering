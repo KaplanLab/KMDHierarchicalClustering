{
 "cells": [
  {
   "cell_type": "code",
   "execution_count": 26,
   "metadata": {},
   "outputs": [],
   "source": [
    "from KMDHierarchicalClustering.KMDclustering.KMDClustering import KMDLinkage\n",
    "import numpy as np\n",
    "import matplotlib.pyplot as plt\n",
    "from sklearn import cluster, datasets, mixture\n",
    "from sklearn.neighbors import kneighbors_graph\n",
    "from sklearn.preprocessing import StandardScaler\n",
    "from itertools import cycle, islice\n",
    "import cluster_scoring\n",
    "from sklearn.metrics import adjusted_rand_score, normalized_mutual_info_score\n",
    "import warnings\n",
    "%matplotlib inline"
   ]
  },
  {
   "cell_type": "code",
   "execution_count": 27,
   "metadata": {
    "collapsed": true
   },
   "outputs": [],
   "source": [
    "### generate datasets ###\n",
    "np.random.seed(1)\n",
    "n_samples = 1000\n",
    "\n",
    "# nested circle data\n",
    "noisy_circles = datasets.make_circles(n_samples=n_samples, factor=.3,\n",
    "                                      noise=0.14)\n",
    "# moons dataset\n",
    "noisy_moons = datasets.make_moons(n_samples=n_samples, noise=.24)\n",
    "\n",
    "# Anisotropicly distributed data\n",
    "random_state = 170\n",
    "X, y = datasets.make_blobs(n_samples=n_samples, random_state=random_state)\n",
    "transformation = [[0.6, -0.6], [-0.4, 0.8]]\n",
    "X_aniso = np.dot(X, transformation)\n",
    "aniso = (X_aniso, y)\n",
    "\n",
    "# blobs with varied variances\n",
    "varied = datasets.make_blobs(n_samples=n_samples, cluster_std=[1.5, 2, 1],random_state=random_state)"
   ]
  },
  {
   "cell_type": "code",
   "execution_count": 28,
   "metadata": {
    "collapsed": true
   },
   "outputs": [],
   "source": [
    "# Set up cluster parameters\n",
    "default_base = {'quantile': .3,\n",
    "                'eps': 0.15,\n",
    "                'damping': .9,\n",
    "                'preference': -200,\n",
    "                'n_neighbors': 10,\n",
    "                'n_clusters': 3,\n",
    "                'min_samples': 20,\n",
    "                'xi': 0.07,\n",
    "                'min_cluster_size': 0.1,\n",
    "                'k':10\n",
    "                }\n",
    "\n",
    "datasets = [\n",
    "    (noisy_circles, {'damping': .60, 'preference': -240,'quantile': .2, 'n_clusters': 2,'min_samples': 20, 'xi': 0.25, 'k':11}),\n",
    "    (noisy_moons, {'damping': .75, 'preference': -220, 'n_clusters': 2, 'k':40}),\n",
    "    (varied, {'eps': .18, 'n_neighbors': 2,'min_samples': 5, 'xi': 0.035, 'min_cluster_size': .2, 'k':10}),\n",
    "    (aniso, {'eps': .15, 'n_neighbors': 2,'min_samples': 20, 'xi': 0.1, 'min_cluster_size': .2, 'k':10}),\n",
    "]"
   ]
  },
  {
   "cell_type": "code",
   "execution_count": 29,
   "metadata": {},
   "outputs": [
    {
     "data": {
      "text/plain": [
       "<Figure size 1512x900 with 0 Axes>"
      ]
     },
     "metadata": {},
     "output_type": "display_data"
    }
   ],
   "source": [
    "# set up figure \n",
    "f =plt.figure(1,figsize=(9 * 2 + 3, 12.5))\n",
    "f.subplots_adjust(left=.02, right=.98, bottom=.001, top=.96, wspace=.05, hspace=.01)\n",
    "plot_num = 1"
   ]
  },
  {
   "cell_type": "code",
   "execution_count": 30,
   "metadata": {},
   "outputs": [],
   "source": [
    "# iterate on all datasets \n",
    "for i_dataset, (dataset, algo_params) in enumerate(datasets):\n",
    "    # update parameters with dataset-specific values\n",
    "    params = default_base.copy()\n",
    "    params.update(algo_params)\n",
    "\n",
    "    X, y = dataset\n",
    "\n",
    "    # normalize dataset for easier parameter selection\n",
    "    X = StandardScaler().fit_transform(X)\n",
    "    # connectivity matrix for structured Ward\n",
    "    connectivity = kneighbors_graph( X, n_neighbors=params['n_neighbors'], include_self=False)\n",
    "    # make connectivity symmetric\n",
    "    connectivity = 0.5 * (connectivity + connectivity.T)\n",
    "\n",
    "    # Create cluster objects\n",
    "    HAC_single = cluster.AgglomerativeClustering(n_clusters=params['n_clusters'], linkage='single',connectivity=connectivity)\n",
    "    spectral = cluster.SpectralClustering(n_clusters=params['n_clusters'], eigen_solver='arpack',affinity=\"nearest_neighbors\")\n",
    "    dbscan = cluster.DBSCAN(eps=params['eps'])\n",
    "    average_linkage = cluster.AgglomerativeClustering(linkage=\"average\", n_clusters=params['n_clusters'])\n",
    "    gmm = mixture.GaussianMixture( n_components=params['n_clusters'], covariance_type='full')\n",
    "    kmd = KMDLinkage(X, k=params['k'], n_clusters = params['n_clusters'], min_cluster_size = 10, affinity ='compute', certainty = 0.5,\n",
    "                             k_scan_range = (1,100,3))\n",
    "    kmd_core = KMDLinkage(X, k=params['k'], n_clusters = params['n_clusters'], min_cluster_size = 10, affinity ='compute', certainty = 1,\n",
    "                                  k_scan_range = (1,100,3))\n",
    "    \n",
    "    clustering_algorithms = (\n",
    "        ('True labels',0),\n",
    "        ('SpectralClustering', spectral),\n",
    "        ('HAC average', average_linkage),\n",
    "        ('HAC single', HAC_single),\n",
    "        ('DBSCAN', dbscan),\n",
    "        ('GaussianMixture', gmm),\n",
    "        ('KMD HAC' ,kmd),\n",
    "        ('KMD HAC(core)', kmd_core)\n",
    "    )\n",
    "        "
   ]
  },
  {
   "cell_type": "code",
   "execution_count": null,
   "metadata": {},
   "outputs": [
    {
     "name": "stderr",
     "output_type": "stream",
     "text": [
      "C:\\Users\\sivan\\Anaconda2\\envs\\py36\\lib\\site-packages\\sklearn\\cluster\\_agglomerative.py:502: UserWarning: the number of connected components of the connectivity matrix is 50 > 1. Completing it to avoid stopping the tree early.\n",
      "  affinity=affinity)\n"
     ]
    }
   ],
   "source": [
    "    # cluster each dataset \n",
    "    for name, algorithm in clustering_algorithms:\n",
    "        if algorithm != 0:\n",
    "                algorithm.fit(X)\n",
    "        elif name == 'True labels':\n",
    "            y_pred= y\n",
    "        elif hasattr(algorithm, 'labels_'):\n",
    "            y_pred = algorithm.labels_.astype(np.int)\n",
    "        else:\n",
    "            y_pred = algorithm.predict(X)\n",
    "\n",
    "        core_idx = y_pred != -1\n",
    "        y_pred_eval = y_pred[core_idx]\n",
    "        y_eval = y[core_idx]\n",
    "\n",
    "        plt.subplot(len(datasets), len(clustering_algorithms) , plot_num)\n",
    "\n",
    "        if i_dataset == 0:\n",
    "            plt.title(name, size=18)\n",
    "\n",
    "        colors = np.array(list(islice(cycle(['#377eb8', '#ff7f00', '#4daf4a','#f781bf', '#a65628', '#984ea3','#999999', '#e41a1c', '#dede00']),int(max(y_pred) + 1))))\n",
    "        # add black color for outliers (if any)\n",
    "        colors = np.append(colors, [\"#000000\"])\n",
    "        plt.scatter(X[:, 0], X[:, 1], s=10, color=colors[y_pred])\n",
    "        plt.xlim(-2.5, 2.5)\n",
    "        plt.ylim(-2.5, 2.5)\n",
    "        plt.xticks(())\n",
    "        plt.yticks(())\n",
    "        plot_num += 1\n"
   ]
  },
  {
   "cell_type": "code",
   "execution_count": 32,
   "metadata": {},
   "outputs": [],
   "source": []
  },
  {
   "cell_type": "code",
   "execution_count": null,
   "metadata": {
    "collapsed": true
   },
   "outputs": [],
   "source": []
  }
 ],
 "metadata": {
  "kernelspec": {
   "display_name": "Python 3",
   "language": "python",
   "name": "python3"
  },
  "language_info": {
   "codemirror_mode": {
    "name": "ipython",
    "version": 3
   },
   "file_extension": ".py",
   "mimetype": "text/x-python",
   "name": "python",
   "nbconvert_exporter": "python",
   "pygments_lexer": "ipython3",
   "version": "3.6.8"
  }
 },
 "nbformat": 4,
 "nbformat_minor": 2
}
