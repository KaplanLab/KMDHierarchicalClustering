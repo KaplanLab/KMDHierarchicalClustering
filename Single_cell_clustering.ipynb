{
 "cells": [
  {
   "cell_type": "code",
   "execution_count": 1,
   "metadata": {
    "collapsed": true
   },
   "outputs": [],
   "source": [
    "import warnings\n",
    "warnings.filterwarnings(\"ignore\")\n",
    "from SCCAF import *\n",
    "import urllib.request\n",
    "from sklearn.metrics import adjusted_rand_score, normalized_mutual_info_score\n",
    "import KMDHierarchicalClustering.KMDclustering.cluster_scoring as cluster_scoring\n",
    "import KMDHierarchicalClustering.KMDclustering.KMDAlgo as KMDAlgo\n"
   ]
  },
  {
   "cell_type": "code",
   "execution_count": 2,
   "metadata": {
    "collapsed": true
   },
   "outputs": [],
   "source": [
    "# download preproccesd file\n",
    "urllib.request.urlretrieve(\"https://drive.google.com/uc?export=download&id=1hprRFkEk8q27kqrt9RLvY6aqu6XWPb2C\", 'Zeisel.h5')\n",
    "ad = sc.read(filename=\"Zeisel.h5\")"
   ]
  },
  {
   "cell_type": "code",
   "execution_count": 3,
   "metadata": {},
   "outputs": [
    {
     "name": "stdout",
     "output_type": "stream",
     "text": [
      "(3005, 2000)\n",
      "(2361, 2000)\n"
     ]
    }
   ],
   "source": [
    "# filter overexprecced cells \n",
    "print (ad.shape)\n",
    "sc.pp.filter_cells(ad, max_genes=1600)\n",
    "print (ad.shape)"
   ]
  },
  {
   "cell_type": "code",
   "execution_count": 4,
   "metadata": {
    "collapsed": true
   },
   "outputs": [],
   "source": [
    "# convert cell names to list of cluster numbers \n",
    "label_dict = {}\n",
    "index = 1\n",
    "y_true = []\n",
    "for cell in ad.obs['cell']:\n",
    "    if cell in label_dict:\n",
    "        y_true.append(label_dict[cell])\n",
    "    else:\n",
    "        label_dict[cell]=index\n",
    "        y_true.append(label_dict[cell])\n",
    "        index+=1"
   ]
  },
  {
   "cell_type": "code",
   "execution_count": null,
   "metadata": {
    "collapsed": true
   },
   "outputs": [],
   "source": []
  },
  {
   "cell_type": "code",
   "execution_count": 7,
   "metadata": {},
   "outputs": [
    {
     "name": "stdout",
     "output_type": "stream",
     "text": [
      "aviv\n",
      "k=6\n",
      "sil_score\n",
      "0.025323028420280527\n",
      "Predicted k is : 6\n"
     ]
    },
    {
     "ename": "NameError",
     "evalue": "name 'KMDLinkage' is not defined",
     "output_type": "error",
     "traceback": [
      "\u001b[1;31m---------------------------------------------------------------------------\u001b[0m",
      "\u001b[1;31mNameError\u001b[0m                                 Traceback (most recent call last)",
      "\u001b[1;32m<ipython-input-7-806c166f174a>\u001b[0m in \u001b[0;36m<module>\u001b[1;34m()\u001b[0m\n\u001b[0;32m      2\u001b[0m \u001b[0mkmd_cluster\u001b[0m\u001b[1;33m.\u001b[0m\u001b[0mfit\u001b[0m\u001b[1;33m(\u001b[0m\u001b[0mad\u001b[0m\u001b[1;33m.\u001b[0m\u001b[0mX\u001b[0m\u001b[1;33m)\u001b[0m\u001b[1;33m\u001b[0m\u001b[1;33m\u001b[0m\u001b[0m\n\u001b[0;32m      3\u001b[0m \u001b[0my_pred\u001b[0m \u001b[1;33m=\u001b[0m \u001b[0mkmd_cluster\u001b[0m\u001b[1;33m.\u001b[0m\u001b[0mpredict\u001b[0m\u001b[1;33m(\u001b[0m\u001b[0mad\u001b[0m\u001b[1;33m.\u001b[0m\u001b[0mX\u001b[0m\u001b[1;33m)\u001b[0m\u001b[1;33m\u001b[0m\u001b[1;33m\u001b[0m\u001b[0m\n\u001b[1;32m----> 4\u001b[1;33m \u001b[0mcluster_scoring\u001b[0m\u001b[1;33m.\u001b[0m\u001b[0mtsne_presentation\u001b[0m\u001b[1;33m(\u001b[0m\u001b[0mKMDLinkage\u001b[0m\u001b[1;33m.\u001b[0m\u001b[0mdists\u001b[0m\u001b[1;33m,\u001b[0m\u001b[0my_true\u001b[0m\u001b[1;33m,\u001b[0m\u001b[0my_pred\u001b[0m\u001b[1;33m)\u001b[0m\u001b[1;33m\u001b[0m\u001b[1;33m\u001b[0m\u001b[0m\n\u001b[0m",
      "\u001b[1;31mNameError\u001b[0m: name 'KMDLinkage' is not defined"
     ]
    }
   ],
   "source": [
    "kmd_cluster = KMDAlgo.KMDLinkage(ad.X, k='compute',affinity = 'correlation',n_clusters=max(y_true), min_cluster_size= 10 , certainty=0.5, k_scan_range = (6,10,10))\n",
    "kmd_cluster.fit(ad.X)\n",
    "y_pred = kmd_cluster.predict(ad.X)\n",
    "cluster_scoring.tsne_presentation(KMDLinkage.dists,y_true,y_pred)"
   ]
  },
  {
   "cell_type": "code",
   "execution_count": null,
   "metadata": {
    "collapsed": true
   },
   "outputs": [],
   "source": []
  }
 ],
 "metadata": {
  "kernelspec": {
   "display_name": "Python 3",
   "language": "python",
   "name": "python3"
  },
  "language_info": {
   "codemirror_mode": {
    "name": "ipython",
    "version": 3
   },
   "file_extension": ".py",
   "mimetype": "text/x-python",
   "name": "python",
   "nbconvert_exporter": "python",
   "pygments_lexer": "ipython3",
   "version": "3.6.8"
  }
 },
 "nbformat": 4,
 "nbformat_minor": 2
}
