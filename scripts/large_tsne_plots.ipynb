{
 "cells": [
  {
   "cell_type": "code",
   "execution_count": 4,
   "id": "867f0b05",
   "metadata": {},
   "outputs": [
    {
     "name": "stdout",
     "output_type": "stream",
     "text": [
      "The autoreload extension is already loaded. To reload it, use:\n",
      "  %reload_ext autoreload\n"
     ]
    }
   ],
   "source": [
    "%load_ext autoreload\n",
    "%autoreload 2"
   ]
  },
  {
   "cell_type": "code",
   "execution_count": 5,
   "id": "55f40b3c",
   "metadata": {},
   "outputs": [],
   "source": [
    "import sys\n",
    "import glob"
   ]
  },
  {
   "cell_type": "code",
   "execution_count": 26,
   "id": "1f9907ea",
   "metadata": {},
   "outputs": [],
   "source": [
    "import KMDHierarchicalClustering\n",
    "from KMDHierarchicalClustering import cluster_scoring\n",
    "from FlowCytometryTools import FCMeasurement\n",
    "import numpy as np\n",
    "import matplotlib.pyplot as plt\n",
    "from sklearn.metrics import adjusted_rand_score, normalized_mutual_info_score, pairwise_distances\n",
    "import pandas as pd"
   ]
  },
  {
   "cell_type": "markdown",
   "id": "74e3d813",
   "metadata": {},
   "source": [
    "# Flow cytometry"
   ]
  },
  {
   "cell_type": "code",
   "execution_count": 362,
   "id": "4315d988",
   "metadata": {},
   "outputs": [
    {
     "name": "stderr",
     "output_type": "stream",
     "text": [
      "/Local/md_kaplan/anaconda3/envs/current/lib/python3.9/site-packages/fcsparser/api.py:440: UserWarning: The default channel names (defined by the $PnS parameter in the FCS file) were not unique. To avoid problems in downstream analysis, the channel names have been switched to the alternate channel names defined in the FCS file. To avoid seeing this warning message, explicitly instruct the FCS parser to use the alternate channel names by specifying the channel_naming parameter.\n",
      "  warnings.warn(msg)\n"
     ]
    },
    {
     "data": {
      "text/plain": [
       "(265627, 41)"
      ]
     },
     "execution_count": 362,
     "metadata": {},
     "output_type": "execute_result"
    }
   ],
   "source": [
    "data_name = 'Levine_32dim'\n",
    "datafile = r'flow/raw_data/'+ data_name+ '.fcs'\n",
    "sample = FCMeasurement(ID='Test Sample', datafile=datafile)\n",
    "df = sample.data\n",
    "df.shape"
   ]
  },
  {
   "cell_type": "code",
   "execution_count": 363,
   "id": "94fc7093",
   "metadata": {},
   "outputs": [],
   "source": [
    "import pathlib\n",
    "def get_y(seed):\n",
    "    np.random.seed(seed)\n",
    "    idx = []\n",
    "    n = 20000\n",
    "    i = 0\n",
    "    while i < n:\n",
    "        idx_new = np.random.randint(int(df.shape[0]), size=(1,))\n",
    "        #if np.isnan(df['label'][idx_new].to_numpy()):\n",
    "        #    continue\n",
    "        #else:\n",
    "        idx.append(int(idx_new[0]))\n",
    "        i+=1\n",
    "    idx = np.array(idx)\n",
    "    y_true = np.array(df['label'][idx])\n",
    "\n",
    "    y_pred_pattern = f\"flow/subclust/{data_name}_y_pred_n_with_nan*20000_num_{seed}*.npy\"\n",
    "    print(\"Pattern:\", y_pred_pattern)\n",
    "    y_pred_filenames = glob.glob(y_pred_pattern)\n",
    "    y_pred_filenames = sorted(y_pred_filenames, key = lambda x: -pathlib.Path(x).stat().st_mtime)[-1:]\n",
    "    y_pred = [ np.load(x) for x in y_pred_filenames ]\n",
    "    if y_pred[0].size > n:\n",
    "        y_pred = [ x[idx] for x in y_pred ]\n",
    "    \n",
    "    return y_true, y_pred, df.iloc[idx]"
   ]
  },
  {
   "cell_type": "code",
   "execution_count": 364,
   "id": "ff1f0989",
   "metadata": {},
   "outputs": [
    {
     "name": "stdout",
     "output_type": "stream",
     "text": [
      "Pattern: /storage/md_kaplan/azelig/subclust/Levine_32dim_y_pred_n_with_nan*20000_num_1*.npy\n",
      "s=1 num of y_preds=1\n",
      "Pattern: /storage/md_kaplan/azelig/subclust/Levine_32dim_y_pred_n_with_nan*20000_num_2*.npy\n",
      "s=2 num of y_preds=1\n",
      "Pattern: /storage/md_kaplan/azelig/subclust/Levine_32dim_y_pred_n_with_nan*20000_num_3*.npy\n",
      "s=3 num of y_preds=1\n",
      "Pattern: /storage/md_kaplan/azelig/subclust/Levine_32dim_y_pred_n_with_nan*20000_num_4*.npy\n",
      "s=4 num of y_preds=1\n",
      "Pattern: /storage/md_kaplan/azelig/subclust/Levine_32dim_y_pred_n_with_nan*20000_num_5*.npy\n",
      "s=5 num of y_preds=1\n",
      "[0.9334620334620335, 0.9312270016495369, 0.9334883120237634, 0.9048476276199049, 0.9357740847182306]\n",
      "0.9277598118946939 7834.8\n"
     ]
    },
    {
     "data": {
      "text/plain": [
       "(None, [7770, 7881, 7743, 7777, 8003])"
      ]
     },
     "execution_count": 364,
     "metadata": {},
     "output_type": "execute_result"
    }
   ],
   "source": [
    "score = []\n",
    "count = []\n",
    "for s in [1,2,3,4,5]:\n",
    "    y_true, y_pred, _ = get_y(s)\n",
    "    print(f\"{s=} num of y_preds={len(y_pred)}\")\n",
    "    mask = np.isfinite(y_true)\n",
    "    count.append(mask.sum())\n",
    "    y_true = y_true[mask]\n",
    "    score.append(max([ cluster_scoring.hungarian_acc(y_true, x[mask])[0] for x in y_pred ]))\n",
    "print(score)\n",
    "print(np.mean(score), np.mean(count)), count"
   ]
  },
  {
   "cell_type": "code",
   "execution_count": 365,
   "id": "fd4c530b",
   "metadata": {},
   "outputs": [
    {
     "name": "stdout",
     "output_type": "stream",
     "text": [
      "Pattern: /storage/md_kaplan/azelig/subclust/Levine_32dim_y_pred_n_with_nan*20000_num_3*.npy\n",
      "s=3 num of y_preds=1\n"
     ]
    }
   ],
   "source": [
    "s = 3 # Choose the seed that is closest to real results\n",
    "y_true, y_pred, X = get_y(s)\n",
    "print(f\"{s=} num of y_preds={len(y_pred)}\")\n",
    "mask = np.isfinite(y_true)\n",
    "# Remove technical columns like viability, file number, label, etc\n",
    "#X = X.iloc[mask] # Levine_13dim\n",
    "X = X.iloc[mask][X.columns[2:-5]] # Levine_32dim\n",
    "#X = X.iloc[mask][X.columns[8:-7]] # Samusik_01\n",
    "y_true = y_true[mask].astype(int)\n",
    "y_pred = y_pred[0][mask]\n",
    "dists = KMDHierarchicalClustering.KMDClustering.calc_dists({}, X, 'correlation')"
   ]
  },
  {
   "cell_type": "code",
   "execution_count": null,
   "id": "17ff9ff4",
   "metadata": {
    "scrolled": true
   },
   "outputs": [],
   "source": [
    "#plt.rcParams['figure.dpi'] = 300\n",
    "np.random.seed(1)\n",
    "cluster_scoring.tsne_presentation(dists, y_true, y_pred)"
   ]
  },
  {
   "cell_type": "markdown",
   "id": "cbd051ae",
   "metadata": {},
   "source": [
    "# Large dataset section"
   ]
  },
  {
   "cell_type": "markdown",
   "id": "fbf145c5",
   "metadata": {},
   "source": [
    "## Levine15_32"
   ]
  },
  {
   "cell_type": "code",
   "execution_count": 8,
   "id": "76bde7ee",
   "metadata": {},
   "outputs": [
    {
     "name": "stderr",
     "output_type": "stream",
     "text": [
      "/Local/md_kaplan/anaconda3/envs/current/lib/python3.9/site-packages/fcsparser/api.py:440: UserWarning: The default channel names (defined by the $PnS parameter in the FCS file) were not unique. To avoid problems in downstream analysis, the channel names have been switched to the alternate channel names defined in the FCS file. To avoid seeing this warning message, explicitly instruct the FCS parser to use the alternate channel names by specifying the channel_naming parameter.\n",
      "  warnings.warn(msg)\n"
     ]
    }
   ],
   "source": [
    "data_file = r\"flow/raw_data/Levine_32dim.fcs\"\n",
    "df = FCMeasurement(ID='Test Sample', datafile=data_file).data"
   ]
  },
  {
   "cell_type": "code",
   "execution_count": 9,
   "id": "cff93f68",
   "metadata": {},
   "outputs": [],
   "source": [
    "num = 2\n",
    "np.random.seed(num)\n",
    "idx = []\n",
    "i = 0\n",
    "while i < 5000:\n",
    "    idx_new = np.random.randint(int(df.shape[0]), size=(1,))\n",
    "    if np.isnan(df['label'][idx_new].to_numpy()):\n",
    "        continue\n",
    "    else:\n",
    "        idx.append(int(idx_new[0]))\n",
    "        i += 1\n",
    "idx = np.array(idx)"
   ]
  },
  {
   "cell_type": "code",
   "execution_count": 12,
   "id": "06bed55b",
   "metadata": {},
   "outputs": [],
   "source": [
    "X = df.to_numpy()[idx][:, 2:-5] # Levine_32dim\n",
    "dists = KMDHierarchicalClustering.KMDClustering.calc_dists({}, X, 'correlation')\n",
    "y_true_sub = df['label'][idx].astype(int).to_numpy()\n",
    "y_pred_sub = np.load(\"flow/subclust/Levine_32dim_y_pred_n_5000_num_2.npy\")"
   ]
  },
  {
   "cell_type": "code",
   "execution_count": null,
   "id": "b77fe812",
   "metadata": {},
   "outputs": [],
   "source": [
    "#plt.rcParams['figure.dpi'] = 600\n",
    "cluster_scoring.tsne_presentation(dists, y_true_sub, y_pred_sub)"
   ]
  },
  {
   "cell_type": "markdown",
   "id": "788e8065",
   "metadata": {},
   "source": [
    "## PBMC68K_Pure"
   ]
  },
  {
   "cell_type": "code",
   "execution_count": 65,
   "id": "d7b3411b",
   "metadata": {},
   "outputs": [],
   "source": [
    "data_file = \"sampling/pbmc_pure/pure6_pca.csv\"\n",
    "df = pd.read_csv(data_file)\n",
    "X = df.filter(like='PC').to_numpy()\n",
    "y_true = df['label'].to_numpy()"
   ]
  },
  {
   "cell_type": "code",
   "execution_count": 66,
   "id": "5154c998",
   "metadata": {},
   "outputs": [],
   "source": [
    "pred_file = \"sampling/pbmc_pure/pure6_kmd_seed1_sample5000_mcs50_n6.npz\"\n",
    "pred = np.load(pred_file)\n",
    "y_pred = pred['y_pred']\n",
    "idx = pred['idx_sub']"
   ]
  },
  {
   "cell_type": "code",
   "execution_count": 67,
   "id": "1417f228",
   "metadata": {},
   "outputs": [],
   "source": [
    "y_pred_sub = y_pred[idx]\n",
    "y_true_sub = y_true[idx]\n",
    "X_sub = X[idx]"
   ]
  },
  {
   "cell_type": "code",
   "execution_count": 68,
   "id": "d462f827",
   "metadata": {},
   "outputs": [],
   "source": [
    "_, y = cluster_scoring.hungarian_acc(y_true_sub, y_pred_sub)"
   ]
  },
  {
   "cell_type": "code",
   "execution_count": 71,
   "id": "3827c107",
   "metadata": {},
   "outputs": [],
   "source": [
    "dists = KMDHierarchicalClustering.KMDClustering.calc_dists({}, X_sub, 'correlation')"
   ]
  },
  {
   "cell_type": "code",
   "execution_count": null,
   "id": "be6693c6",
   "metadata": {},
   "outputs": [],
   "source": [
    "#plt.rcParams['figure.dpi'] = 600\n",
    "cluster_scoring.tsne_presentation(dists, y_true_sub, y_pred_sub)"
   ]
  },
  {
   "cell_type": "markdown",
   "id": "dc2c5d76",
   "metadata": {},
   "source": [
    "## Simulated 1M"
   ]
  },
  {
   "cell_type": "code",
   "execution_count": 87,
   "id": "abb12748",
   "metadata": {},
   "outputs": [],
   "source": [
    "X = np.load('sampling/1Msim/1M_pca.npy')\n",
    "y_true = np.load('sampling/1Msim/1M_y_true.npy', allow_pickle=True).astype(int)\n",
    "y_pred = np.load(\"sampling/1Msim/1Msim/1M_y_pred.npy\")\n",
    "idx = np.load(\"sampling/1Msim/1Msim/1M_idx_sampled.npy\")"
   ]
  },
  {
   "cell_type": "code",
   "execution_count": 88,
   "id": "8cb77a79",
   "metadata": {},
   "outputs": [],
   "source": [
    "y_pred_sub = y_pred[idx]\n",
    "y_true_sub = y_true[idx]\n",
    "X_sub = X[idx]"
   ]
  },
  {
   "cell_type": "code",
   "execution_count": 89,
   "id": "b90a7db8",
   "metadata": {},
   "outputs": [],
   "source": [
    "dists = KMDHierarchicalClustering.KMDClustering.calc_dists({}, X_sub, 'correlation')"
   ]
  },
  {
   "cell_type": "code",
   "execution_count": null,
   "id": "f348f685",
   "metadata": {},
   "outputs": [],
   "source": [
    "#plt.rcParams['figure.dpi'] = 600\n",
    "cluster_scoring.tsne_presentation(dists, y_true_sub, y_pred_sub)"
   ]
  }
 ],
 "metadata": {
  "kernelspec": {
   "display_name": "Python 3 (ipykernel)",
   "language": "python",
   "name": "python3"
  },
  "language_info": {
   "codemirror_mode": {
    "name": "ipython",
    "version": 3
   },
   "file_extension": ".py",
   "mimetype": "text/x-python",
   "name": "python",
   "nbconvert_exporter": "python",
   "pygments_lexer": "ipython3",
   "version": "3.10.4"
  },
  "toc": {
   "base_numbering": 1,
   "nav_menu": {},
   "number_sections": true,
   "sideBar": true,
   "skip_h1_title": false,
   "title_cell": "Table of Contents",
   "title_sidebar": "Contents",
   "toc_cell": false,
   "toc_position": {},
   "toc_section_display": true,
   "toc_window_display": false
  }
 },
 "nbformat": 4,
 "nbformat_minor": 5
}
